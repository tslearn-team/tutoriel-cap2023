{
  "cells": [
    {
      "attachments": {},
      "cell_type": "markdown",
      "metadata": {
        "cell_id": "40a2a9df6eed4d12a5f4e331d11cf928",
        "deepnote_cell_type": "markdown",
        "id": "6B_NyC5LTwyR",
        "tags": []
      },
      "source": [
        "# Partie 1 : Dynamic Time Warping (DTW)\n",
        "\n",
        "Ce _notebook_ est tiré d'un tutoriel [\"Machine Learning et séries temporelles en Python\"](https://tslearn-team.github.io/tutoriel-cap2023/) organisé dans le cadre de CAp 2023.\n",
        "Ce tutoriel est animé par Yann Cabanes, Johann Faouzi et Romain Tavenard.\n",
        "Ce _notebook_ utilise la librairie `tslearn` dont les docs sont consultables en ligne à l'adresse <https://tslearn.readthedocs.io/>.\n",
        "\n",
        "## Pour commencer, les imports\n",
        "\n",
        "Il n'est pas demandé _a priori_ d'opérer de changements au code ci-dessous.\n",
        "\n",
        "Exécutez la cellule suivante pour installer le paquet `tslearn` :"
      ]
    },
    {
      "cell_type": "code",
      "execution_count": null,
      "metadata": {
        "colab": {
          "base_uri": "https://localhost:8080/"
        },
        "id": "AL-pQjPWTwyd",
        "outputId": "2a23b001-9e5b-4f83-e934-e03e8d345d8d"
      },
      "outputs": [],
      "source": [
        "!pip install tslearn"
      ]
    },
    {
      "attachments": {},
      "cell_type": "markdown",
      "metadata": {
        "id": "qRF4cnBTTwyh"
      },
      "source": [
        "Vérifiez que l'installation s'est bien passée en exécutant les imports suivants :"
      ]
    },
    {
      "cell_type": "code",
      "execution_count": null,
      "metadata": {
        "cell_id": "5a0065d32baf44feab4637ac4a761ff4",
        "deepnote_cell_type": "code",
        "deepnote_to_be_reexecuted": false,
        "execution_millis": 7121,
        "execution_start": 1642774702567,
        "id": "VVTAIeJWTwyj",
        "source_hash": "f2695d32",
        "tags": []
      },
      "outputs": [],
      "source": [
        "import numpy as np\n",
        "import matplotlib.pyplot as plt\n",
        "\n",
        "from tslearn.metrics import dtw_path\n",
        "from tslearn.barycenters import dtw_barycenter_averaging, softdtw_barycenter\n",
        "from tslearn.clustering import TimeSeriesKMeans"
      ]
    },
    {
      "attachments": {},
      "cell_type": "markdown",
      "metadata": {
        "cell_id": "b5fa0ed7f1c04ab2b56e2fba5dfb3a85",
        "deepnote_cell_type": "markdown",
        "id": "VfMvCiv4Twyp",
        "tags": []
      },
      "source": [
        "## Mesure de similarité entre séries temporelles\n",
        "\n",
        "Utilisons le code suivant pour définir deux séries temporelles `x0` et `x1` :"
      ]
    },
    {
      "cell_type": "code",
      "execution_count": null,
      "metadata": {
        "cell_id": "d6a702c724a540babce4052947bc275b",
        "colab": {
          "base_uri": "https://localhost:8080/",
          "height": 430
        },
        "deepnote_cell_type": "code",
        "deepnote_output_heights": [
          250
        ],
        "deepnote_to_be_reexecuted": false,
        "execution_millis": 430,
        "execution_start": 1642774713483,
        "id": "8fvfUZEQTwyq",
        "outputId": "e331d601-9ecc-42ed-d762-d5585393c6b8",
        "source_hash": "454d0ffa",
        "tags": []
      },
      "outputs": [],
      "source": [
        "size = 50\n",
        "x0 = np.zeros((size, ))\n",
        "x0[20:20+size//2] = np.sin(np.linspace(0, 2 * np.pi, size // 2))\n",
        "\n",
        "x1 = np.zeros((size, ))\n",
        "x1[5:5+size//2] = np.sin(np.linspace(0, 2 * np.pi, size // 2))\n",
        "\n",
        "plt.figure()\n",
        "plt.plot(x0, 'r-', label='x0')  # red\n",
        "plt.plot(x1, 'b-', label='x1')  # blue\n",
        "plt.legend()\n",
        "plt.show()"
      ]
    },
    {
      "attachments": {},
      "cell_type": "markdown",
      "metadata": {
        "id": "hfv624AJTwyr"
      },
      "source": [
        "**Question.** Calculez la similarité DTW entre `x0` et `x1` à l'aide de la fonction [`dtw_path`](https://tslearn.readthedocs.io/en/stable/gen_modules/metrics/tslearn.metrics.dtw_path.html) de `tslearn`."
      ]
    },
    {
      "cell_type": "code",
      "execution_count": null,
      "metadata": {
        "cell_id": "e679ba9b6209469891196a53c0ce1fd6",
        "colab": {
          "base_uri": "https://localhost:8080/",
          "height": 448
        },
        "deepnote_cell_type": "code",
        "deepnote_output_heights": [
          250
        ],
        "deepnote_to_be_reexecuted": false,
        "execution_millis": 1484,
        "execution_start": 1611567669992,
        "id": "_CyRUpOoTwyt",
        "outputId": "273eafca-7462-4ec5-c109-282433c11237",
        "source_hash": "993eb74c",
        "tags": []
      },
      "outputs": [],
      "source": [
        "# TODO ici : appel de la fonction dtw_path\n",
        "\n",
        "plt.figure()\n",
        "plt.plot(x0, 'r-', label='x0')  # red\n",
        "plt.plot(x1 + 4, 'b-', label='x1')  # blue\n",
        "for i, j in path:\n",
        "    plt.plot([i, j], [x0[i], x1[j] + 4], \"k-\", alpha=.5)\n",
        "plt.legend()\n",
        "plt.show()\n",
        "\n",
        "print(f\"DTW(x0,x1)={dist}\")"
      ]
    },
    {
      "attachments": {},
      "cell_type": "markdown",
      "metadata": {
        "cell_id": "6adea4f935b342aca1382730b1f80fc4",
        "deepnote_cell_type": "markdown",
        "id": "BBIAcuiCTwyv",
        "tags": []
      },
      "source": [
        "## Barycentres de séries temporelles\n",
        "\n",
        "Vous allez maintenant illustrer le fonctionnement de plusieurs mesures de similarité en représentant des barycentres (= des moyennes) de séries au sens de ces métriques, pour comprendre comment ces métriques réagissent aux décalages temporels.\n",
        "\n",
        "**Question.** Calculez le barycentre au sens de la distance euclidienne des séries `x0` et `x1` affichez le résultat.\n",
        "\n",
        "_Indice_ : le barycentre au sens de la distance euclidienne est la simple moyenne élément par élément des deux séries, autrement dit:\n",
        "$$\\text{barycentre}(x_0, x_1) = \\frac{x_0 + x_1}{2}$$\n",
        "\n",
        "Ce barycentre vous semble-t-il représentatif du contenu des séries `x0` et `x1` ?"
      ]
    },
    {
      "cell_type": "code",
      "execution_count": null,
      "metadata": {
        "cell_id": "fe610220a8e4437890fd4bfdc57b9206",
        "deepnote_cell_type": "code",
        "id": "mxZkc89RTwyw",
        "tags": []
      },
      "outputs": [],
      "source": [
        "# TODO: Compléter ici\n",
        "euclidean_barycenter = None"
      ]
    },
    {
      "cell_type": "code",
      "execution_count": null,
      "metadata": {
        "cell_id": "3a0c86d8f160477ea7a3fd4efecd35bc",
        "colab": {
          "base_uri": "https://localhost:8080/",
          "height": 430
        },
        "deepnote_cell_type": "code",
        "deepnote_to_be_reexecuted": false,
        "execution_millis": 190,
        "execution_start": 1611567671495,
        "id": "UUinFq4WTwyx",
        "outputId": "c92767dd-a53c-4198-cce7-be31624f5766",
        "output_cleared": true,
        "source_hash": null,
        "tags": []
      },
      "outputs": [],
      "source": [
        "plt.figure()\n",
        "plt.plot(x0, 'r-', label='x0')  # red\n",
        "plt.plot(x1, 'b-', label='x1')  # blue\n",
        "plt.plot(euclidean_barycenter, 'k-', label='Barycentre euclidien')\n",
        "plt.legend()\n",
        "plt.show()"
      ]
    },
    {
      "attachments": {},
      "cell_type": "markdown",
      "metadata": {
        "cell_id": "9e09df78a58f4e2a944f249413332d93",
        "deepnote_cell_type": "markdown",
        "id": "mSbNvPF7Twyx",
        "tags": []
      },
      "source": [
        "**Question.** Répétez cette expérience avec un barycentre DTW (en se reposant sur [l'implémentation fournie par `tslearn`](https://tslearn.readthedocs.io/en/stable/gen_modules/barycenters/tslearn.barycenters.dtw_barycenter_averaging.html#tslearn.barycenters.dtw_barycenter_averaging))."
      ]
    },
    {
      "cell_type": "code",
      "execution_count": null,
      "metadata": {
        "cell_id": "a254e3584e8e47f2a8e0210ccdf58daa",
        "colab": {
          "base_uri": "https://localhost:8080/",
          "height": 430
        },
        "deepnote_cell_type": "code",
        "deepnote_to_be_reexecuted": false,
        "execution_millis": 189,
        "execution_start": 1611567671689,
        "id": "CKt5mwWvTwyy",
        "outputId": "7eb4f6e1-2972-47d4-8a9a-f371372e4ea6",
        "output_cleared": true,
        "source_hash": null,
        "tags": []
      },
      "outputs": [],
      "source": [
        "dtw_barycenter = None\n",
        "\n",
        "plt.figure()\n",
        "plt.plot(x0, 'r-', label='x0')  # red\n",
        "plt.plot(x1, 'b-', label='x1')  # blue\n",
        "plt.plot(dtw_barycenter[:, 0], 'k-', label='DTW barycenter')\n",
        "plt.legend()\n",
        "plt.show()"
      ]
    },
    {
      "attachments": {},
      "cell_type": "markdown",
      "metadata": {
        "cell_id": "4e0a7c74a41949ffb28762947b1d92f7",
        "deepnote_cell_type": "markdown",
        "id": "8gHN0X68Twyy",
        "tags": []
      },
      "source": [
        "**Question.** Il est possible que le barycentre obtenu soit bruité. Utilisez un barycentre soft-DTW pour améliorer ce point ([lien vers les docs du calcul de barycentre softDTWdans `tslearn`](https://tslearn.readthedocs.io/en/stable/gen_modules/barycenters/tslearn.barycenters.softdtw_barycenter.html#tslearn.barycenters.softdtw_barycenter)).\n",
        "Testez avec des valeurs de $\\gamma$ variant entre $10^{-3}$ et $100$ pour étudier l'influence de ce paramètre sur les barycentres obtenus."
      ]
    },
    {
      "cell_type": "code",
      "execution_count": null,
      "metadata": {
        "cell_id": "46e108e33eb4488994bb0352f6e2cf6a",
        "colab": {
          "base_uri": "https://localhost:8080/",
          "height": 430
        },
        "deepnote_cell_type": "code",
        "deepnote_to_be_reexecuted": false,
        "execution_millis": 246,
        "execution_start": 1611567671930,
        "id": "dOdO08LMTwyz",
        "outputId": "3d4e8849-5b8f-4229-a67c-654a46adb2cc",
        "output_cleared": true,
        "source_hash": null,
        "tags": []
      },
      "outputs": [],
      "source": [
        "sdtw_barycenter = None\n",
        "\n",
        "plt.figure()\n",
        "plt.plot(x0, 'r-', label='x0')  # red\n",
        "plt.plot(x1, 'b-', label='x1')  # blue\n",
        "plt.plot(sdtw_barycenter[:, 0], 'k-', label='softDTW barycenter')\n",
        "plt.legend()\n",
        "plt.show()"
      ]
    },
    {
      "attachments": {},
      "cell_type": "markdown",
      "metadata": {
        "cell_id": "4efa27ba802442ffb84f564855fe21a7",
        "deepnote_cell_type": "markdown",
        "id": "I3do47kUTwyz",
        "tags": []
      },
      "source": [
        "## Clustering d'un jeu de séries temporelles\n",
        "\n",
        "**Question.** Exécutez le code ci-dessous pour charger un sous-ensemble du jeu de données de séries temporelles \"Trace\"."
      ]
    },
    {
      "cell_type": "code",
      "execution_count": null,
      "metadata": {
        "cell_id": "c20808d488c64f01b1a47550cfe92e94",
        "colab": {
          "base_uri": "https://localhost:8080/",
          "height": 430
        },
        "deepnote_cell_type": "code",
        "deepnote_to_be_reexecuted": false,
        "execution_millis": 14,
        "execution_start": 1643108238186,
        "id": "AuThcThUTwy0",
        "outputId": "7993b735-0571-45af-8982-565446b074c9",
        "source_hash": "5af98abd",
        "tags": []
      },
      "outputs": [],
      "source": [
        "from tslearn.datasets import CachedDatasets\n",
        "\n",
        "np.random.seed(0)\n",
        "data_loader = CachedDatasets()\n",
        "X_train, y_train, X_test, y_test = data_loader.load_dataset(\"Trace\")\n",
        "\n",
        "X = X_train[y_train < 4]\n",
        "np.random.shuffle(X)\n",
        "X = X[:50]\n",
        "\n",
        "for ts in X:\n",
        "    plt.plot(ts[:, 0], color='k')"
      ]
    },
    {
      "attachments": {},
      "cell_type": "markdown",
      "metadata": {
        "cell_id": "753b4b39c36546f59b6f6f3b3301decc",
        "deepnote_cell_type": "markdown",
        "id": "o2QIAe0bTwy0",
        "tags": []
      },
      "source": [
        "On va chercher à extraire des _clusters_, c'est-à-dire des groupes homogènes de séries temporelles, à partir du jeu de données ci-dessus.\n",
        "Pour cela, on utilisera la classe [`TimeSeriesKMeans`](https://tslearn.readthedocs.io/en/stable/gen_modules/clustering/tslearn.clustering.TimeSeriesKMeans.html) de la librairie `tslearn`.\n",
        "\n",
        "**Question.** Par défaut, quelle mesure de similarité est utilisée par `TimeSeriesKMeans` pour le clustering ?"
      ]
    },
    {
      "attachments": {},
      "cell_type": "markdown",
      "metadata": {
        "id": "LQkLn9Q1Twy0"
      },
      "source": [
        "_VOTRE RÉPONSE ICI_"
      ]
    },
    {
      "attachments": {},
      "cell_type": "markdown",
      "metadata": {
        "id": "fnhcxDNxTwy0"
      },
      "source": [
        "De manière générale, on interagit avec les modèles (appelés _estimateurs_) proposés par `tslearn` comme on le ferait avec des estimateurs `scikit-learn`.\n",
        "Dans le cas d'un problème de clustering, comme ici, la syntaxe sera de la forme :\n",
        "\n",
        "```python\n",
        "m = LaClasseDeMonModele(hyper_parametre=valeur)\n",
        "m.fit(X)  # X est le jeu de données dans lequel on cherche les clusters\n",
        "\n",
        "# Ensuite, les assignations des données dans des clusters sont obtenues par :\n",
        "print(m.labels_)\n",
        "```\n",
        "\n",
        "**Question.** Effectuez un _clustering_ euclidien en 3 groupes du jeu de données chargé ci-dessus et observez les groupes obtenus à l'aide du code fourni."
      ]
    },
    {
      "cell_type": "code",
      "execution_count": null,
      "metadata": {
        "colab": {
          "base_uri": "https://localhost:8080/",
          "height": 291
        },
        "id": "ggtEt0RZTwy1",
        "outputId": "e5def05e-acfa-4321-bde0-9f080cbd6dbb"
      },
      "outputs": [],
      "source": [
        "# TODO : votre code ici\n",
        "km = None\n",
        "\n",
        "plt.figure(figsize=(10, 3))\n",
        "for i in range(3):\n",
        "    plt.subplot(1, 3, i + 1)\n",
        "    for ts in X[km.labels_ == i]:\n",
        "        plt.plot(ts[:, 0], 'k')"
      ]
    },
    {
      "attachments": {},
      "cell_type": "markdown",
      "metadata": {
        "cell_id": "4cf6e1d79ba44b6ea7a5421a8d552e38",
        "deepnote_cell_type": "markdown",
        "id": "UXXZHE-YTwy1",
        "tags": []
      },
      "source": [
        "**Question.** Faites de même pour un _clustering_ reposant sur la DTW comme mesure de similarité."
      ]
    },
    {
      "cell_type": "code",
      "execution_count": null,
      "metadata": {
        "cell_id": "6935c867157a41deaa58e8f1388b28ff",
        "colab": {
          "base_uri": "https://localhost:8080/",
          "height": 291
        },
        "deepnote_cell_type": "code",
        "deepnote_to_be_reexecuted": false,
        "execution_millis": 2,
        "execution_start": 1643108238220,
        "id": "gwEOC89xTwy1",
        "outputId": "eff5fb18-3ab2-48aa-9eb5-449b9d46478a",
        "source_hash": "9ad796c4",
        "tags": []
      },
      "outputs": [],
      "source": [
        "# TODO : votre code ici\n",
        "km = None\n",
        "\n",
        "plt.figure(figsize=(10, 3))\n",
        "for i in range(3):\n",
        "    plt.subplot(1, 3, i + 1)\n",
        "    for ts in X[km.labels_ == i]:\n",
        "        plt.plot(ts[:, 0], 'k')"
      ]
    },
    {
      "attachments": {},
      "cell_type": "markdown",
      "metadata": {
        "id": "Hw0tPGLhTwy2"
      },
      "source": [
        "Les barycentres obtenus pour chaque groupe sont accessibles via l'attribut `km.cluster_centers_` pour un modèle appelé `km`.\n",
        "Ajoutez ces barycentres tracés en rouge sur les figures ci-dessus pour voir s'ils sont bien en phase avec le contenu des clusters."
      ]
    },
    {
      "cell_type": "code",
      "execution_count": null,
      "metadata": {
        "colab": {
          "base_uri": "https://localhost:8080/",
          "height": 291
        },
        "id": "4A7NKcxuTwy2",
        "outputId": "de8cde8b-7a73-4637-bbe1-90583d22dd54"
      },
      "outputs": [],
      "source": [
        "plt.figure(figsize=(10, 3))\n",
        "for i in range(3):\n",
        "    plt.subplot(1, 3, i + 1)\n",
        "    for ts in X[km.labels_ == i]:\n",
        "        plt.plot(ts[:, 0], 'k')\n",
        "    # TODO : vode code ici"
      ]
    },
    {
      "attachments": {},
      "cell_type": "markdown",
      "metadata": {
        "cell_id": "4f9010909c26496cb13661f0815ace49",
        "deepnote_cell_type": "markdown",
        "id": "zdQjbVjwTwy3",
        "tags": []
      },
      "source": [
        "# Prédiction à plusieurs pas de temps\n",
        "\n",
        "Dans la suite, vous allez implémenter un réseau de neurones totalement connecté (de type _Multi Layer Perceptron_, MLP) pour une tâche de prédiction du futur d'une série temporelle sur un horizon temporel de plusieurs pas de temps.\n",
        "Dans ce cadre, vous comparerez l'utilisation d'une fonction de coût (_loss_) erreur quadratique avec la variante soft-DTW.\n",
        "\n",
        "Pour cela, vous vous reposerez sur [la _loss_ PyTorch fournie dans le module `metrics` de `tslearn`](https://tslearn.readthedocs.io/en/stable/gen_modules/metrics/tslearn.metrics.SoftDTWLossPyTorch.html).\n",
        "\n",
        "On fournit le code ci-dessous qui est une implémentation d'un _Multi-Layer-Perceptron_ en `torch`, sur laquelle vous vous appuierez pour cette tâche de prédiction."
      ]
    },
    {
      "cell_type": "code",
      "execution_count": null,
      "metadata": {
        "cell_id": "914d8b9253664422a47f80ed0ddc9469",
        "deepnote_cell_type": "code",
        "deepnote_to_be_reexecuted": false,
        "execution_millis": 0,
        "execution_start": 1643108238277,
        "id": "iyq3cVa5Twy3",
        "source_hash": "cee8162b",
        "tags": []
      },
      "outputs": [],
      "source": [
        "import torch\n",
        "from torch import nn\n",
        "\n",
        "class MultiLayerPerceptron(torch.nn.Module):  # No hidden layer here\n",
        "    def __init__(self, layers, loss=None):\n",
        "        # At init, we define our layers\n",
        "        super(MultiLayerPerceptron, self).__init__()\n",
        "        self.layers = layers\n",
        "        if loss is None:\n",
        "            self.loss = torch.nn.MSELoss(reduction=\"none\")\n",
        "        else:\n",
        "            self.loss = loss\n",
        "        self.optimizer = torch.optim.SGD(self.parameters(), lr=0.001)\n",
        "\n",
        "\n",
        "    def forward(self, X):\n",
        "        # The forward method informs about the forward pass: how one computes outputs of the network\n",
        "        # from the input and the parameters of the layers registered at init\n",
        "        if not isinstance(X, torch.Tensor):\n",
        "            X = torch.Tensor(X)\n",
        "        batch_size = X.size(0)\n",
        "        X_reshaped = torch.reshape(X, (batch_size, -1))  # Manipulations to deal with time series format\n",
        "        output = self.layers(X_reshaped)\n",
        "        return torch.reshape(output, (batch_size, -1, 1))  # Manipulations to deal with time series format\n",
        "\n",
        "    def fit(self, X, y, max_epochs=10):\n",
        "        # The fit method performs the actual optimization\n",
        "        X_torch = torch.Tensor(X)\n",
        "        y_torch = torch.Tensor(y)\n",
        "\n",
        "        for e in range(max_epochs):\n",
        "            self.optimizer.zero_grad()\n",
        "            # Forward pass\n",
        "            y_pred = self.forward(X_torch)\n",
        "            # Compute Loss\n",
        "            loss = self.loss(y_pred, y_torch).mean()\n",
        "            if e % 50 == 0:\n",
        "                print('Epoch {}: train loss: {}'.format(e, loss.item()))\n",
        "            # Backward pass\n",
        "            loss.backward()\n",
        "            self.optimizer.step()"
      ]
    },
    {
      "attachments": {},
      "cell_type": "markdown",
      "metadata": {
        "id": "o3faTEGETwy4"
      },
      "source": [
        "**Question.** D'après l'extrait de code ci-dessous, quelle est la taille de la série fournie en entrée du réseau et pour combien de pas de temps doit-on effectuer la prédiction ?"
      ]
    },
    {
      "attachments": {},
      "cell_type": "markdown",
      "metadata": {
        "id": "LzQGz-NdTwy5"
      },
      "source": [
        "_VOTRE REPONSE ICI_"
      ]
    },
    {
      "cell_type": "code",
      "execution_count": null,
      "metadata": {
        "colab": {
          "base_uri": "https://localhost:8080/"
        },
        "id": "CaS6hAmKTwy6",
        "outputId": "13d73f79-5122-4b30-96b2-a219eaae0e5d"
      },
      "outputs": [],
      "source": [
        "# Example definition of a MLP model using the class above\n",
        "model = MultiLayerPerceptron(\n",
        "    layers=nn.Sequential(\n",
        "        nn.Linear(in_features=150, out_features=256),\n",
        "        nn.ReLU(),\n",
        "        nn.Linear(in_features=256, out_features=125)\n",
        "    )\n",
        ")\n",
        "model.fit(X[:, :150], X[:, 150:], max_epochs=1001)"
      ]
    },
    {
      "attachments": {},
      "cell_type": "markdown",
      "metadata": {
        "id": "iARyggfgTwy7"
      },
      "source": [
        "**Question.** Exécutez le code ci-dessus qui correspond à l'apprentissage d'un modèle en optimisant une fonction de coût de type \"erreur quadratique\". À l'aide du code ci-dessous, visualisez la prédiction pour une série du jeu de test. Qu'en pensez-vous ?"
      ]
    },
    {
      "cell_type": "code",
      "execution_count": null,
      "metadata": {
        "colab": {
          "base_uri": "https://localhost:8080/",
          "height": 431
        },
        "id": "TpPfHYTBTwy7",
        "outputId": "413fbc16-a729-4fc5-cc9a-2237d73cafaa"
      },
      "outputs": [],
      "source": [
        "ts_index = 50\n",
        "\n",
        "y_pred = model(X_test[:, :150, 0]).detach().numpy()\n",
        "\n",
        "plt.figure()\n",
        "plt.plot(X_test[ts_index].ravel())\n",
        "plt.plot(np.arange(150, 275), y_pred[ts_index], 'r-')\n",
        "plt.show()"
      ]
    },
    {
      "attachments": {},
      "cell_type": "markdown",
      "metadata": {
        "cell_id": "9789dc68724c4c9889ab4a0071bdb030",
        "deepnote_cell_type": "markdown",
        "id": "1rMBtPAxTwy8",
        "tags": []
      },
      "source": [
        "**Question.** Modifiez le code ci-dessus pour entraîner un modèle en minimisant cette fois une fonction de coût SoftDTW (avec un paramètre $\\gamma$ fixé arbitrairement à la valeur $0.1$)."
      ]
    },
    {
      "cell_type": "code",
      "execution_count": null,
      "metadata": {
        "cell_id": "6b326d3e6191466b86bd840650d9464b",
        "colab": {
          "base_uri": "https://localhost:8080/"
        },
        "deepnote_cell_type": "code",
        "deepnote_to_be_reexecuted": false,
        "execution_millis": 35,
        "execution_start": 1643108463164,
        "id": "92OYDlVhTwy8",
        "outputId": "4376f3e8-fd12-4baa-936c-d1d70a3edaa1",
        "source_hash": "65506591",
        "tags": []
      },
      "outputs": [],
      "source": [
        "from tslearn.metrics import SoftDTWLossPyTorch as SoftDTWLoss\n",
        "\n",
        "# TODO : définition du modèle et entraînement\n",
        "model = None\n",
        "model.fit(X[:, :150], X[:, 150:], max_epochs=101)"
      ]
    },
    {
      "attachments": {},
      "cell_type": "markdown",
      "metadata": {
        "cell_id": "b823e3be23a04d0f84278d0405cf62b7",
        "deepnote_cell_type": "markdown",
        "id": "lHsfK7K_Twy9",
        "tags": []
      },
      "source": [
        "**Question.** Visualisez la prédiction générée pour le même exemple du jeu de test (`ts_index = 50`) que précédemment."
      ]
    },
    {
      "cell_type": "code",
      "execution_count": null,
      "metadata": {
        "cell_id": "af906fb8456042dca6701da816b91edc",
        "colab": {
          "base_uri": "https://localhost:8080/",
          "height": 431
        },
        "deepnote_cell_type": "code",
        "deepnote_output_heights": [
          252
        ],
        "deepnote_to_be_reexecuted": true,
        "execution_millis": 161,
        "execution_start": 1611744714466,
        "id": "in7vAuKPTwy9",
        "outputId": "6e61d062-9700-471c-8793-c94d64c2c5c3",
        "source_hash": "5ffba4b7",
        "tags": []
      },
      "outputs": [],
      "source": [
        "ts_index = 50\n",
        "\n",
        "y_pred = model(X_test[:, :150, 0]).detach().numpy()\n",
        "\n",
        "plt.figure()\n",
        "plt.plot(X_test[ts_index].ravel())\n",
        "plt.plot(np.arange(150, 275), y_pred[ts_index], 'r-')\n",
        "plt.show()"
      ]
    }
  ],
  "metadata": {
    "colab": {
      "provenance": []
    },
    "deepnote": {},
    "deepnote_execution_queue": [],
    "deepnote_notebook_id": "84e7507a69654560be4cd236da5a3f97",
    "kernelspec": {
      "display_name": "py38_data",
      "language": "python",
      "name": "python3"
    },
    "language_info": {
      "codemirror_mode": {
        "name": "ipython",
        "version": 3
      },
      "file_extension": ".py",
      "mimetype": "text/x-python",
      "name": "python",
      "nbconvert_exporter": "python",
      "pygments_lexer": "ipython3",
      "version": "3.9.6"
    },
    "vscode": {
      "interpreter": {
        "hash": "25f9a3951446179f6c2016b22a60b44495fe90f43bda7f3caedfe2c1a9cd31f9"
      }
    }
  },
  "nbformat": 4,
  "nbformat_minor": 0
}
